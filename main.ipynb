{
 "cells": [
  {
   "cell_type": "code",
   "execution_count": 1,
   "id": "sweet-opposition",
   "metadata": {},
   "outputs": [],
   "source": [
    "# Initial imports\n",
    "import os\n",
    "import requests\n",
    "import pandas as pd\n",
    "from dotenv import load_dotenv\n",
    "import alpaca_trade_api as tradeapi\n",
    "from MCForecastTools import MCSimulation\n",
    "import json\n",
    "\n",
    "\n",
    "%matplotlib inline "
   ]
  },
  {
   "cell_type": "code",
   "execution_count": 2,
   "id": "broke-chrome",
   "metadata": {},
   "outputs": [
    {
     "data": {
      "text/plain": [
       "True"
      ]
     },
     "execution_count": 2,
     "metadata": {},
     "output_type": "execute_result"
    }
   ],
   "source": [
    "# Load .env enviroment variables\n",
    "load_dotenv() "
   ]
  },
  {
   "cell_type": "code",
   "execution_count": 3,
   "id": "automatic-thanks",
   "metadata": {},
   "outputs": [],
   "source": [
    "# Set current amount of crypto assets\n",
    "my_btc = 1.2 \n",
    "my_eth = 5.3"
   ]
  },
  {
   "cell_type": "code",
   "execution_count": 4,
   "id": "essential-tuesday",
   "metadata": {},
   "outputs": [],
   "source": [
    "# Crypto API URLs\n",
    "btc_url = \"https://api.alternative.me/v2/ticker/Bitcoin/?convert=USD\"  \n",
    "eth_url = \"https://api.alternative.me/v2/ticker/Ethereum/?convert=USD\" "
   ]
  },
  {
   "cell_type": "code",
   "execution_count": 5,
   "id": "limiting-shuttle",
   "metadata": {},
   "outputs": [
    {
     "name": "stdout",
     "output_type": "stream",
     "text": [
      "The current value of your 1.2 BTC is $59514.00\n",
      "The current value of your 5.3 ETH is $11622.26\n"
     ]
    }
   ],
   "source": [
    "# Fetch current BTC price\n",
    "fetch_btc_price = requests.get(btc_url) \n",
    "\n",
    "# Fetch current ETH price\n",
    "fetch_eth_price = requests.get(eth_url)\n",
    "\n",
    "# Compute current value of my crpto\n",
    "\n",
    "current_eth_price_json = json.loads(fetch_eth_price.content)\n",
    "current_btc_price_json = json.loads(fetch_btc_price.content)\n",
    "\n",
    "current_eth_price = current_eth_price_json['data']['1027']['quotes']['USD']['price']\n",
    "current_btc_price = current_btc_price_json['data']['1']['quotes']['USD']['price']\n",
    "\n",
    "my_eth_value = current_eth_price * my_eth\n",
    "my_btc_value = current_btc_price * my_btc\n",
    "\n",
    "# Print current crypto wallet balance\n",
    "print(f\"The current value of your {my_btc} BTC is ${my_btc_value:0.2f}\")\n",
    "print(f\"The current value of your {my_eth} ETH is ${my_eth_value:0.2f}\") \n",
    "\n",
    "# Get crypto total\n",
    "total_crypto = my_eth_value  +  my_btc_value"
   ]
  },
  {
   "cell_type": "markdown",
   "id": "armed-vacuum",
   "metadata": {},
   "source": [
    "## Collect Investments Data Using Alpaca: SPY (stocks) and AGG (bonds)"
   ]
  },
  {
   "cell_type": "code",
   "execution_count": 6,
   "id": "unlike-paris",
   "metadata": {},
   "outputs": [],
   "source": [
    "# Current amount of shares\n",
    "my_spy_shares = 50\n",
    "my_agg_shares = 200"
   ]
  },
  {
   "cell_type": "code",
   "execution_count": 7,
   "id": "latter-fundamentals",
   "metadata": {},
   "outputs": [],
   "source": [
    "# Set Alpaca API key and secret\n",
    "\n",
    "alpaca_api_key = os.getenv(\"ALPACA_API_KEY\")\n",
    "alpaca_secret_key = os.getenv(\"ALPACA_SECRET_KEY\") "
   ]
  },
  {
   "cell_type": "code",
   "execution_count": 8,
   "id": "bridal-leonard",
   "metadata": {},
   "outputs": [],
   "source": [
    " # Create the Alpaca API object\n",
    "\n",
    "alpaca = tradeapi.REST(\n",
    "    alpaca_api_key,\n",
    "    alpaca_secret_key,\n",
    "    api_version=\"v2\") "
   ]
  },
  {
   "cell_type": "code",
   "execution_count": 9,
   "id": "federal-canadian",
   "metadata": {},
   "outputs": [],
   "source": [
    " # Format current date as ISO format\n",
    "    \n",
    "today = pd.Timestamp(\"2021-04-23\", tz=\"America/New_York\").isoformat() "
   ]
  },
  {
   "cell_type": "code",
   "execution_count": 10,
   "id": "flexible-pound",
   "metadata": {},
   "outputs": [
    {
     "data": {
      "text/html": [
       "<div>\n",
       "<style scoped>\n",
       "    .dataframe tbody tr th:only-of-type {\n",
       "        vertical-align: middle;\n",
       "    }\n",
       "\n",
       "    .dataframe tbody tr th {\n",
       "        vertical-align: top;\n",
       "    }\n",
       "\n",
       "    .dataframe thead th {\n",
       "        text-align: right;\n",
       "    }\n",
       "</style>\n",
       "<table border=\"1\" class=\"dataframe\">\n",
       "  <thead>\n",
       "    <tr style=\"text-align: right;\">\n",
       "      <th></th>\n",
       "      <th>AGG</th>\n",
       "      <th>SPY</th>\n",
       "    </tr>\n",
       "  </thead>\n",
       "  <tbody>\n",
       "    <tr>\n",
       "      <th>2021-04-23</th>\n",
       "      <td>114.75</td>\n",
       "      <td>416.72</td>\n",
       "    </tr>\n",
       "  </tbody>\n",
       "</table>\n",
       "</div>"
      ],
      "text/plain": [
       "               AGG     SPY\n",
       "2021-04-23  114.75  416.72"
      ]
     },
     "metadata": {},
     "output_type": "display_data"
    },
    {
     "name": "stdout",
     "output_type": "stream",
     "text": [
      "Current AGG closing price: $114.75\n",
      "Current SPY closing price: $416.72\n"
     ]
    }
   ],
   "source": [
    "# Set the tickers\n",
    "\n",
    "tickers = [\"AGG\", \"SPY\"]\n",
    "\n",
    "# Set timeframe to '1D' for Alpaca API\n",
    "timeframe = \"1D\"\n",
    "\n",
    "# Create and empty DataFrame for closing prices\n",
    "\n",
    "df_closing_prices = pd.DataFrame()\n",
    "\n",
    "\n",
    "# Get current closing prices for SPY and AGG\n",
    "\n",
    "df_portfolio = alpaca.get_barset(\n",
    "    tickers,\n",
    "    timeframe,\n",
    "    start = today,\n",
    "    end = today\n",
    ").df\n",
    "\n",
    "df_closing_prices[\"AGG\"] = df_portfolio[\"AGG\"][\"close\"]\n",
    "df_closing_prices[\"SPY\"] = df_portfolio[\"SPY\"][\"close\"]\n",
    "\n",
    "\n",
    "# Drop the time component of the date\n",
    "\n",
    "df_closing_prices.index = df_closing_prices.index.date\n",
    "\n",
    "\n",
    "# preview dataframe\n",
    "\n",
    "display(df_closing_prices.head())\n",
    "\n",
    "\n",
    "# Pick AGG and SPY close prices\n",
    "\n",
    "agg_close_price = df_portfolio[\"AGG\"][\"close\"][0]\n",
    "spy_close_price = df_portfolio[\"SPY\"][\"close\"][0]\n",
    "\n",
    "\n",
    "# Print AGG and SPY close prices\n",
    "\n",
    "print(f\"Current AGG closing price: ${agg_close_price}\")\n",
    "print(f\"Current SPY closing price: ${spy_close_price}\") \n",
    "\n"
   ]
  },
  {
   "cell_type": "code",
   "execution_count": 13,
   "id": "religious-comparative",
   "metadata": {},
   "outputs": [
    {
     "name": "stdout",
     "output_type": "stream",
     "text": [
      "The current value of your 200 AGG shares is $22950.00\n",
      "The current value of your 50 SPY shares is $20836.00\n",
      "43786.0\n"
     ]
    }
   ],
   "source": [
    "# Compute the current value of shares\n",
    "\n",
    "my_spy_value = my_spy_shares * spy_close_price\n",
    "my_agg_value = my_agg_shares * agg_close_price\n",
    "\n",
    "\n",
    "# Print current The current value of both shares\n",
    "\n",
    "print(f\"The current value of your {my_agg_shares} AGG shares is ${my_agg_value:0.2f}\") \n",
    "print (f\"The current value of your {my_spy_shares} SPY shares is ${my_spy_value:0.2f}\")\n",
    "\n",
    "# Get shares total\n",
    "total_shares = my_spy_value + my_agg_value\n",
    "\n",
    "print(total_shares)\n"
   ]
  },
  {
   "cell_type": "markdown",
   "id": "exclusive-bradley",
   "metadata": {},
   "source": [
    "## Savings Health Analysis"
   ]
  },
  {
   "cell_type": "code",
   "execution_count": null,
   "id": "pointed-sodium",
   "metadata": {},
   "outputs": [],
   "source": [
    "# Set monthly household income\n",
    "monthly_income = 12000\n",
    "savings = {\"Amount\":[total_crypto,total_shares]}\n",
    "\n",
    "\n",
    "# Create savings DataFrame\n",
    "df_savings = pd.DataFrame(savings, index=[\"crypto\",\"shares\"])\n",
    "\n",
    "# Display savings DataFrame\n",
    "display(df_savings) "
   ]
  },
  {
   "cell_type": "code",
   "execution_count": null,
   "id": "banned-influence",
   "metadata": {},
   "outputs": [],
   "source": [
    "# Plot savings pie chart\n",
    "df_savings.plot(kind='pie',y=\"Amount\",startangle=90)"
   ]
  },
  {
   "cell_type": "code",
   "execution_count": null,
   "id": "fantastic-tanzania",
   "metadata": {},
   "outputs": [],
   "source": [
    " # Set ideal emergency fund\n",
    "emergency_fund = monthly_income * 3\n",
    "\n",
    "# Calculate total amount of savings\n",
    "total_savings = total_crypto + total_shares\n",
    "\n",
    "# Validate saving health\n",
    "if  total_savings > emergency_fund:\n",
    "    print(\"Congratulations! You have enough money in your emergency fund\")\n",
    "elif total_savings == emergency_fund:\n",
    "    print(\"Hooray, you reachgd your financial goals\")  \n",
    "else :\n",
    "    dollars_left_to_reach_goal =  emergency_fund - total_savings\n",
    "    print(f\"You need ${dollars_left_to_reach_goal} to reach your goal\")"
   ]
  },
  {
   "cell_type": "markdown",
   "id": "adolescent-wound",
   "metadata": {},
   "source": [
    " \n",
    "    ## Monte Carlo Simulation\n"
   ]
  },
  {
   "cell_type": "code",
   "execution_count": null,
   "id": "closed-driver",
   "metadata": {},
   "outputs": [],
   "source": [
    "# Set start and end dates of five years back from today.\n",
    "start_date = pd.Timestamp('2016-04-23', tz='America/New_York').isoformat()\n",
    "end_date = pd.Timestamp('2021-04-23', tz='America/New_York').isoformat() "
   ]
  },
  {
   "cell_type": "code",
   "execution_count": null,
   "id": "connected-correlation",
   "metadata": {},
   "outputs": [],
   "source": [
    "# Set timeframe to '1D'\n",
    "timeframe = \"1D\"\n",
    "\n",
    "# Set the ticker information\n",
    "tickers = [\"SPY\",\"AGG\"]\n",
    "\n",
    " # Get 5 years' worth of historical data for SPY and AGG\n",
    "df_ticker = alpaca.get_barset(\n",
    "    tickers,\n",
    "    timeframe,\n",
    "    start=start_date,\n",
    "    end=end_date,\n",
    "    limit=1000,\n",
    ").df\n",
    "\n",
    "# Display sample data\n",
    "df_ticker.head() "
   ]
  },
  {
   "cell_type": "code",
   "execution_count": null,
   "id": "capital-elite",
   "metadata": {},
   "outputs": [],
   "source": [
    "# Configuring a Monte Carlo simulation to forecast 30 years cumulative returns starting with one year \n",
    "MC_oneyear = MCSimulation(\n",
    "    portfolio_data = df_ticker,\n",
    "    weights = [.40,.60],\n",
    "    num_simulation = 100,\n",
    "    num_trading_days = 252\n",
    ") \n",
    "\n",
    "\n",
    "MC_thirtyyear = MCSimulation(\n",
    "    portfolio_data = df_ticker,\n",
    "    weights = [.40,.60],\n",
    "    num_simulation = 500,\n",
    "    num_trading_days = 252*30\n",
    ") \n",
    "\n",
    "# Running a Monte Carlo simulation to forecast 30 years cumulative returns\n",
    "MC_thirtyyear.calc_cumulative_return() \n",
    "\n"
   ]
  }
 ],
 "metadata": {
  "kernelspec": {
   "display_name": "Python 3",
   "language": "python",
   "name": "python3"
  },
  "language_info": {
   "codemirror_mode": {
    "name": "ipython",
    "version": 3
   },
   "file_extension": ".py",
   "mimetype": "text/x-python",
   "name": "python",
   "nbconvert_exporter": "python",
   "pygments_lexer": "ipython3",
   "version": "3.9.2"
  }
 },
 "nbformat": 4,
 "nbformat_minor": 5
}
