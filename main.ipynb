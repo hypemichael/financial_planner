{
 "cells": [
  {
   "cell_type": "code",
   "execution_count": 2,
   "id": "statistical-jurisdiction",
   "metadata": {},
   "outputs": [],
   "source": [
    "# Initial imports\n",
    "import os\n",
    "import requests\n",
    "import pandas as pd\n",
    "from dotenv import load_dotenv\n",
    "import alpaca_trade_api as tradeapi\n",
    "from MCForecastTools import MCSimulation\n",
    "import json\n",
    "\n",
    "\n",
    "%matplotlib inline "
   ]
  },
  {
   "cell_type": "code",
   "execution_count": 3,
   "id": "annual-timing",
   "metadata": {},
   "outputs": [
    {
     "data": {
      "text/plain": [
       "True"
      ]
     },
     "execution_count": 3,
     "metadata": {},
     "output_type": "execute_result"
    }
   ],
   "source": [
    "# Load .env enviroment variables\n",
    "load_dotenv() "
   ]
  },
  {
   "cell_type": "code",
   "execution_count": 8,
   "id": "engaging-nickel",
   "metadata": {},
   "outputs": [],
   "source": [
    "# Set current amount of crypto assets\n",
    "my_btc = 1.2 \n",
    "my_eth = 5.3"
   ]
  },
  {
   "cell_type": "code",
   "execution_count": 9,
   "id": "premier-handy",
   "metadata": {},
   "outputs": [],
   "source": [
    "# Crypto API URLs\n",
    "btc_url = \"https://api.alternative.me/v2/ticker/Bitcoin/?convert=USD\"  \n",
    "eth_url = \"https://api.alternative.me/v2/ticker/Ethereum/?convert=USD\" "
   ]
  },
  {
   "cell_type": "code",
   "execution_count": 10,
   "id": "external-vertex",
   "metadata": {},
   "outputs": [
    {
     "name": "stdout",
     "output_type": "stream",
     "text": [
      "The current value of your 1.2 BTC is $59665.20\n",
      "The current value of your 5.3 ETH is $11628.52\n"
     ]
    }
   ],
   "source": [
    "# Fetch current BTC price\n",
    "fetch_btc_price = requests.get(btc_url) \n",
    "\n",
    "# Fetch current ETH price\n",
    "fetch_eth_price = requests.get(eth_url)\n",
    "\n",
    "# Compute current value of my crpto\n",
    "\n",
    "current_eth_price_json = json.loads(fetch_eth_price.content)\n",
    "current_btc_price_json = json.loads(fetch_btc_price.content)\n",
    "\n",
    "current_eth_price = current_eth_price_json['data']['1027']['quotes']['USD']['price']\n",
    "current_btc_price = current_btc_price_json['data']['1']['quotes']['USD']['price']\n",
    "\n",
    "my_eth_value = current_eth_price * my_eth\n",
    "my_btc_value = current_btc_price * my_btc\n",
    "\n",
    "# Print current crypto wallet balance\n",
    "print(f\"The current value of your {my_btc} BTC is ${my_btc_value:0.2f}\")\n",
    "print(f\"The current value of your {my_eth} ETH is ${my_eth_value:0.2f}\") \n",
    "\n",
    "# Get crypto total\n",
    "total_crypto = my_eth_value  +  my_btc_value"
   ]
  },
  {
   "cell_type": "markdown",
   "id": "relevant-repair",
   "metadata": {},
   "source": [
    "## Collect Investments Data Using Alpaca: SPY (stocks) and AGG (bonds)"
   ]
  },
  {
   "cell_type": "code",
   "execution_count": null,
   "id": "worse-glucose",
   "metadata": {},
   "outputs": [],
   "source": [
    "# Current amount of shares\n",
    "my_spy_shares = 50\n",
    "my_agg_shares = 200"
   ]
  },
  {
   "cell_type": "code",
   "execution_count": null,
   "id": "treated-exercise",
   "metadata": {},
   "outputs": [],
   "source": [
    "# Set Alpaca API key and secret\n",
    "\n",
    "alpaca_api_key = os.getenv(\"ALPACA_API_KEY\")\n",
    "alpaca_secret_key = os.getenv(\"ALPACA_SECRET_KEY\") "
   ]
  },
  {
   "cell_type": "code",
   "execution_count": null,
   "id": "crazy-ireland",
   "metadata": {},
   "outputs": [],
   "source": [
    " # Create the Alpaca API object\n",
    "\n",
    "alpaca = tradeapi.REST(\n",
    "    alpaca_api_key,\n",
    "    alpaca_secret_key,\n",
    "    api_version=\"v2\") "
   ]
  },
  {
   "cell_type": "code",
   "execution_count": null,
   "id": "excessive-gathering",
   "metadata": {},
   "outputs": [],
   "source": [
    " # Format current date as ISO format\n",
    "    \n",
    "today = pd.Timestamp(\"2021-04-23\", tz=\"America/New_York\").isoformat() "
   ]
  },
  {
   "cell_type": "code",
   "execution_count": null,
   "id": "powerful-bonus",
   "metadata": {},
   "outputs": [],
   "source": [
    "# Set the tickers\n",
    "tickers = [\"AGG\", \"SPY\"]\n",
    "\n",
    "# Set timeframe to '1D' for Alpaca API\n",
    "timeframe = \"1D\"\n",
    "\n",
    "# Create and empty DataFrame for closing prices\n",
    "df_closing_prices = pd.DataFrame()\n",
    "\n",
    "\n",
    "# Get current closing prices for SPY and AGG\n",
    "df_portfolio = alpaca.get_barset(\n",
    "    tickers,\n",
    "    timeframe,\n",
    "    start = today,\n",
    "    end = today\n",
    ").df\n",
    "\n",
    "\n",
    "#fetch the closing prices\n",
    "\n",
    "df_closing_prices[\"AGG\"] = df_portfolio[\"AGG\"][\"close\"]\n",
    "df_closing_prices[\"SPY\"] = df_portfolio[\"SPY\"][\"close\"]\n",
    "\n",
    "# Drop the time component of the date\n",
    "\n",
    "df_closing_prices.index = df_closing_prices.index.date\n",
    "\n",
    "# preview dataframe\n",
    "display(df_closing_prices.head())\n",
    "\n",
    "# Pick AGG and SPY close prices\n",
    "agg_close_price = df_portfolio[\"AGG\"][\"close\"][0]\n",
    "spy_close_price = df_portfolio[\"SPY\"][\"close\"][0]\n",
    "\n",
    "# Print AGG and SPY close prices\n",
    "print(f\"Current AGG closing price: ${agg_close_price}\")\n",
    "print(f\"Current SPY closing price: ${spy_close_price}\") \n",
    "\n"
   ]
  }
 ],
 "metadata": {
  "kernelspec": {
   "display_name": "Python 3",
   "language": "python",
   "name": "python3"
  },
  "language_info": {
   "codemirror_mode": {
    "name": "ipython",
    "version": 3
   },
   "file_extension": ".py",
   "mimetype": "text/x-python",
   "name": "python",
   "nbconvert_exporter": "python",
   "pygments_lexer": "ipython3",
   "version": "3.9.2"
  }
 },
 "nbformat": 4,
 "nbformat_minor": 5
}
